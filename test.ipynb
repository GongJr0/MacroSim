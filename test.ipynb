{
 "cells": [
  {
   "cell_type": "code",
   "id": "initial_id",
   "metadata": {
    "collapsed": true,
    "ExecuteTime": {
     "end_time": "2025-07-13T20:27:45.808558Z",
     "start_time": "2025-07-13T20:27:44.744938Z"
    }
   },
   "source": [
    "from macrosim import SeriesAccessor, Causality\n",
    "import datetime as dt\n",
    "import pandas as pd"
   ],
   "outputs": [],
   "execution_count": 1
  },
  {
   "metadata": {
    "ExecuteTime": {
     "end_time": "2025-07-13T20:27:47.559471Z",
     "start_time": "2025-07-13T20:27:46.466085Z"
    }
   },
   "cell_type": "code",
   "source": [
    "fred = SeriesAccessor(\n",
    "    key_path='./fred_key.env',\n",
    "    key_name='FRED_KEY'\n",
    ")\n",
    "start_date = dt.datetime(2018, 1, 1)\n",
    "end_date = dt.datetime(2025, 1, 1)\n",
    "data = fred.get_series(series_ids=['GDP', 'M2V', 'QBPBSTLKTEQKTBKEQKCOMSTK', 'LRAC64TTUSQ156S'],\n",
    "                       date_range=(start_date, end_date))"
   ],
   "id": "3c4735a6fb205a5e",
   "outputs": [],
   "execution_count": 2
  },
  {
   "metadata": {
    "ExecuteTime": {
     "end_time": "2025-07-13T20:31:33.697249Z",
     "start_time": "2025-07-13T20:31:33.692734Z"
    }
   },
   "cell_type": "code",
   "source": "data.causality.is_causal",
   "id": "edb140510ff0ce49",
   "outputs": [
    {
     "data": {
      "text/plain": [
       "{'GDP': <Influence.CAUSAL: 'CAUSAL'>,\n",
       " 'M2V': <Influence.CAUSAL: 'CAUSAL'>,\n",
       " 'QBPBSTLKTEQKTBKEQKCOMSTK': <Influence.CAUSAL: 'CAUSAL'>,\n",
       " 'LRAC64TTUSQ156S': <Influence.CAUSAL: 'CAUSAL'>}"
      ]
     },
     "execution_count": 7,
     "metadata": {},
     "output_type": "execute_result"
    }
   ],
   "execution_count": 7
  }
 ],
 "metadata": {
  "kernelspec": {
   "display_name": "Python 3",
   "language": "python",
   "name": "python3"
  },
  "language_info": {
   "codemirror_mode": {
    "name": "ipython",
    "version": 2
   },
   "file_extension": ".py",
   "mimetype": "text/x-python",
   "name": "python",
   "nbconvert_exporter": "python",
   "pygments_lexer": "ipython2",
   "version": "2.7.6"
  }
 },
 "nbformat": 4,
 "nbformat_minor": 5
}
