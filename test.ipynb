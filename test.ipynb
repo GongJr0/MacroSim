{
 "cells": [
  {
   "cell_type": "code",
   "id": "initial_id",
   "metadata": {
    "collapsed": true,
    "ExecuteTime": {
     "end_time": "2025-07-14T20:59:33.862536Z",
     "start_time": "2025-07-14T20:59:32.793699Z"
    }
   },
   "source": [
    "from macrosim import SeriesAccessor, Causality, Stationarity\n",
    "import datetime as dt\n",
    "import pandas as pd"
   ],
   "outputs": [],
   "execution_count": 1
  },
  {
   "metadata": {
    "ExecuteTime": {
     "end_time": "2025-07-14T20:59:35.226034Z",
     "start_time": "2025-07-14T20:59:34.114138Z"
    }
   },
   "cell_type": "code",
   "source": [
    "fred = SeriesAccessor(\n",
    "    key_path='./fred_key.env',\n",
    "    key_name='FRED_KEY'\n",
    ")\n",
    "start_date = dt.datetime(2018, 1, 1)\n",
    "end_date = dt.datetime(2025, 1, 1)\n",
    "data = fred.get_series(series_ids=['GDP', 'M2V', 'QBPBSTLKTEQKTBKEQKCOMSTK', 'LRAC64TTUSQ156S'],\n",
    "                       date_range=(start_date, end_date))"
   ],
   "id": "3c4735a6fb205a5e",
   "outputs": [],
   "execution_count": 2
  },
  {
   "metadata": {
    "ExecuteTime": {
     "end_time": "2025-07-14T20:59:35.337466Z",
     "start_time": "2025-07-14T20:59:35.243551Z"
    }
   },
   "cell_type": "code",
   "source": "data.causality.is_causal",
   "id": "edb140510ff0ce49",
   "outputs": [
    {
     "data": {
      "text/plain": [
       "{'GDP': <SeriesInfo.CAUSAL: 'CAUSAL'>,\n",
       " 'M2V': <SeriesInfo.CAUSAL: 'CAUSAL'>,\n",
       " 'QBPBSTLKTEQKTBKEQKCOMSTK': <SeriesInfo.CAUSAL: 'CAUSAL'>,\n",
       " 'LRAC64TTUSQ156S': <SeriesInfo.CAUSAL: 'CAUSAL'>}"
      ]
     },
     "execution_count": 3,
     "metadata": {},
     "output_type": "execute_result"
    }
   ],
   "execution_count": 3
  },
  {
   "metadata": {
    "ExecuteTime": {
     "end_time": "2025-07-14T20:59:35.373886Z",
     "start_time": "2025-07-14T20:59:35.357887Z"
    }
   },
   "cell_type": "code",
   "source": "data.stationarity.is_stationary",
   "id": "e46f0adbd2a72d82",
   "outputs": [
    {
     "data": {
      "text/plain": [
       "{'GDP': <SeriesInfo.NON_STATIONARY: 'NON_STATIONARY'>,\n",
       " 'M2V': <SeriesInfo.NON_STATIONARY: 'NON_STATIONARY'>,\n",
       " 'QBPBSTLKTEQKTBKEQKCOMSTK': <SeriesInfo.STATIONARY: 'STATIONARY'>,\n",
       " 'LRAC64TTUSQ156S': <SeriesInfo.NON_STATIONARY: 'NON_STATIONARY'>}"
      ]
     },
     "execution_count": 4,
     "metadata": {},
     "output_type": "execute_result"
    }
   ],
   "execution_count": 4
  }
 ],
 "metadata": {
  "kernelspec": {
   "display_name": "Python 3",
   "language": "python",
   "name": "python3"
  },
  "language_info": {
   "codemirror_mode": {
    "name": "ipython",
    "version": 2
   },
   "file_extension": ".py",
   "mimetype": "text/x-python",
   "name": "python",
   "nbconvert_exporter": "python",
   "pygments_lexer": "ipython2",
   "version": "2.7.6"
  }
 },
 "nbformat": 4,
 "nbformat_minor": 5
}
