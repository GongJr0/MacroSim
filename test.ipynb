{
 "cells": [
  {
   "cell_type": "code",
   "id": "initial_id",
   "metadata": {
    "collapsed": true,
    "ExecuteTime": {
     "end_time": "2025-07-18T17:36:01.164321Z",
     "start_time": "2025-07-18T17:36:00.238642Z"
    }
   },
   "source": [
    "from macrosim import SeriesAccessor, Causality, Stationarity\n",
    "import datetime as dt\n",
    "import pandas as pd"
   ],
   "outputs": [],
   "execution_count": 1
  },
  {
   "metadata": {
    "ExecuteTime": {
     "end_time": "2025-07-16T19:47:36.162548Z",
     "start_time": "2025-07-16T19:47:34.951651Z"
    }
   },
   "cell_type": "code",
   "source": [
    "fred = SeriesAccessor(\n",
    "    key_path='./fred_key.env',\n",
    "    key_name='FRED_KEY'\n",
    ")\n",
    "start_date = dt.datetime(2018, 1, 1)\n",
    "end_date = dt.datetime(2025, 1, 1)\n",
    "data = fred.get_series(series_ids=['GDP', 'M2V', 'QBPBSTLKTEQKTBKEQKCOMSTK', 'LRAC64TTUSQ156S'],\n",
    "                       date_range=(start_date, end_date))"
   ],
   "id": "3c4735a6fb205a5e",
   "outputs": [],
   "execution_count": 2
  },
  {
   "metadata": {
    "ExecuteTime": {
     "end_time": "2025-07-16T20:50:27.311597Z",
     "start_time": "2025-07-16T20:50:27.304474Z"
    }
   },
   "cell_type": "code",
   "source": "data.causality.results",
   "id": "edb140510ff0ce49",
   "outputs": [
    {
     "data": {
      "text/plain": [
       "CausalityResult(df=                  GDP    M2V  QBPBSTLKTEQKTBKEQKCOMSTK  LRAC64TTUSQ156S\n",
       "2018-01-01  20328.553  1.460                 42843.435         73.52248\n",
       "2018-04-01  20580.912  1.465                 42795.560         73.56855\n",
       "2018-07-01  20798.730  1.466                 42918.272         73.53722\n",
       "2018-10-01  20917.867  1.463                 42597.093         73.82066\n",
       "2019-01-01  21111.600  1.458                 42479.618         73.93886\n",
       "2019-04-01  21397.938  1.460                 42619.505         73.87450\n",
       "2019-07-01  21717.171  1.454                 42610.747         74.19981\n",
       "2019-10-01  21933.217  1.437                 42338.736         74.39263\n",
       "2020-01-01  21727.657  1.390                 42229.788         74.26559\n",
       "2020-04-01  19935.444  1.128                 41520.754         71.94056\n",
       "2020-07-01  21684.551  1.177                 41346.472         72.73315\n",
       "2020-10-01  22068.767  1.164                 41318.523         73.00633\n",
       "2021-01-01  22656.793  1.156                 41298.685         72.94699\n",
       "2021-04-01  23368.861  1.148                 41154.394         73.28313\n",
       "2021-07-01  23921.991  1.150                 41107.041         73.52232\n",
       "2021-10-01  24777.038  1.163                 41444.110         73.71464\n",
       "2022-01-01  25215.491  1.164                 41578.008         73.84567\n",
       "2022-04-01  25805.791  1.190                 41667.722         73.96750\n",
       "2022-07-01  26272.011  1.217                 41545.666         74.06658\n",
       "2022-10-01  26734.277  1.253                 41577.890         74.09400\n",
       "2023-01-01  27164.359  1.288                 41631.863         74.47649\n",
       "2023-04-01  27453.815  1.322                 41086.461         74.63450\n",
       "2023-07-01  27967.697  1.348                 41167.157         74.83146\n",
       "2023-10-01  28296.967  1.367                 41175.916         74.85709\n",
       "2024-01-01  28624.069  1.373                 41159.257         74.85041\n",
       "2024-04-01  29016.714  1.382                 41176.436         74.90784\n",
       "2024-07-01  29374.914  1.387                 41308.636         74.97966\n",
       "2024-10-01  29723.864  1.389                 41723.990         74.94535\n",
       "2025-01-01  29962.047  1.386                 41723.990         75.01937)"
      ]
     },
     "execution_count": 16,
     "metadata": {},
     "output_type": "execute_result"
    }
   ],
   "execution_count": 16
  }
 ],
 "metadata": {
  "kernelspec": {
   "display_name": "Python 3",
   "language": "python",
   "name": "python3"
  },
  "language_info": {
   "codemirror_mode": {
    "name": "ipython",
    "version": 2
   },
   "file_extension": ".py",
   "mimetype": "text/x-python",
   "name": "python",
   "nbconvert_exporter": "python",
   "pygments_lexer": "ipython2",
   "version": "2.7.6"
  }
 },
 "nbformat": 4,
 "nbformat_minor": 5
}
