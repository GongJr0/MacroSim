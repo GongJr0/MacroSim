{
 "cells": [
  {
   "cell_type": "code",
   "id": "initial_id",
   "metadata": {
    "collapsed": true,
    "ExecuteTime": {
     "end_time": "2025-03-08T20:26:48.469793Z",
     "start_time": "2025-03-08T20:26:37.610288Z"
    }
   },
   "source": [
    "from EqSearch import EqSearch\n",
    "\n",
    "import pandas as pd\n",
    "import numpy as np"
   ],
   "outputs": [
    {
     "name": "stdout",
     "output_type": "stream",
     "text": [
      "Detected IPython. Loading juliacall extension. See https://juliapy.github.io/PythonCall.jl/stable/compat/#IPython\n"
     ]
    }
   ],
   "execution_count": 1
  },
  {
   "metadata": {},
   "cell_type": "code",
   "outputs": [],
   "execution_count": null,
   "source": "total_pop = pd.read_csv('total_pop.csv')",
   "id": "365d4167ff657876"
  }
 ],
 "metadata": {
  "kernelspec": {
   "display_name": "MacroSim",
   "language": "python",
   "name": "macrosim"
  },
  "language_info": {
   "codemirror_mode": {
    "name": "ipython",
    "version": 2
   },
   "file_extension": ".py",
   "mimetype": "text/x-python",
   "name": "python",
   "nbconvert_exporter": "python",
   "pygments_lexer": "ipython2",
   "version": "2.7.6"
  }
 },
 "nbformat": 4,
 "nbformat_minor": 5
}
