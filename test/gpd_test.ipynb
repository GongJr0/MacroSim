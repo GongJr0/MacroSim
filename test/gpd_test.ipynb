{
 "cells": [
  {
   "metadata": {
    "ExecuteTime": {
     "end_time": "2025-04-03T12:01:07.320649Z",
     "start_time": "2025-04-03T12:01:02.213599Z"
    }
   },
   "cell_type": "code",
   "source": [
    "from macrosim.SeriesAccessor import SeriesAccessor\n",
    "from macrosim.GrowthDetector import GrowthDetector\n",
    "import pandas as pd\n",
    "import numpy as np\n",
    "import datetime as dt\n",
    "import matplotlib.pyplot as plt"
   ],
   "id": "fb9d6a41bb00cfdf",
   "outputs": [
    {
     "name": "stdout",
     "output_type": "stream",
     "text": [
      "Detected IPython. Loading juliacall extension. See https://juliapy.github.io/PythonCall.jl/stable/compat/#IPython\n"
     ]
    }
   ],
   "execution_count": 1
  },
  {
   "metadata": {
    "ExecuteTime": {
     "end_time": "2025-04-03T12:01:10.912838Z",
     "start_time": "2025-04-03T12:01:07.321903Z"
    }
   },
   "cell_type": "code",
   "source": [
    "fred = SeriesAccessor(\n",
    "    key_path='../fred_key.env',\n",
    "    key_name='FRED_KEY'\n",
    ")\n",
    "\n",
    "start = dt.datetime.fromisoformat(\"2000-01-01\")\n",
    "end = dt.datetime.fromisoformat(\"2024-01-01\")\n",
    "\n",
    "df = fred.get_series(\n",
    "    series_ids=['NETEXP', 'CIVPART', 'LES1252881600Q', 'SPPOPGROWUSA', 'CORESTICKM159SFRBATL', 'GDPC1'],\n",
    "    date_range=(start, end), reindex_freq='QS', series_alias=['NETEXP', 'CIVPART', 'RWAGE', 'POPGROWTH', 'CPI', 'RGDP'])\n",
    "\n",
    "df = fred.fill(\n",
    "    df,\n",
    "    [*[None] * 3, 'ffill']\n",
    ")\n",
    "df"
   ],
   "id": "20b8b7079bed4cad",
   "outputs": [
    {
     "data": {
      "text/plain": [
       "             NETEXP  CIVPART  RWAGE  POPGROWTH       CPI       RGDP\n",
       "2000-01-01 -356.583     67.3  334.0   1.112769  2.335519  13878.147\n",
       "2000-04-01 -362.501     67.3  334.0   1.112769  2.409239  14130.908\n",
       "2000-07-01 -393.867     66.9  335.0   1.112769  2.712970  14145.312\n",
       "2000-10-01 -411.343     66.8  334.0   1.112769  2.919941  14229.765\n",
       "2001-01-01 -402.653     67.2  333.0   0.989741  2.878468  14183.120\n",
       "...             ...      ...    ...        ...       ...        ...\n",
       "2023-01-01 -813.648     62.4  364.0   0.491925  6.488339  22403.435\n",
       "2023-04-01 -803.479     62.6  365.0   0.491925  6.267738  22539.418\n",
       "2023-07-01 -781.091     62.6  366.0   0.491925  5.402919  22780.933\n",
       "2023-10-01 -791.152     62.7  370.0   0.491925  4.882717  22960.600\n",
       "2024-01-01 -841.569     62.5  365.0   0.491925  4.601332  23053.545\n",
       "\n",
       "[97 rows x 6 columns]"
      ],
      "text/html": [
       "<div>\n",
       "<style scoped>\n",
       "    .dataframe tbody tr th:only-of-type {\n",
       "        vertical-align: middle;\n",
       "    }\n",
       "\n",
       "    .dataframe tbody tr th {\n",
       "        vertical-align: top;\n",
       "    }\n",
       "\n",
       "    .dataframe thead th {\n",
       "        text-align: right;\n",
       "    }\n",
       "</style>\n",
       "<table border=\"1\" class=\"dataframe\">\n",
       "  <thead>\n",
       "    <tr style=\"text-align: right;\">\n",
       "      <th></th>\n",
       "      <th>NETEXP</th>\n",
       "      <th>CIVPART</th>\n",
       "      <th>RWAGE</th>\n",
       "      <th>POPGROWTH</th>\n",
       "      <th>CPI</th>\n",
       "      <th>RGDP</th>\n",
       "    </tr>\n",
       "  </thead>\n",
       "  <tbody>\n",
       "    <tr>\n",
       "      <th>2000-01-01</th>\n",
       "      <td>-356.583</td>\n",
       "      <td>67.3</td>\n",
       "      <td>334.0</td>\n",
       "      <td>1.112769</td>\n",
       "      <td>2.335519</td>\n",
       "      <td>13878.147</td>\n",
       "    </tr>\n",
       "    <tr>\n",
       "      <th>2000-04-01</th>\n",
       "      <td>-362.501</td>\n",
       "      <td>67.3</td>\n",
       "      <td>334.0</td>\n",
       "      <td>1.112769</td>\n",
       "      <td>2.409239</td>\n",
       "      <td>14130.908</td>\n",
       "    </tr>\n",
       "    <tr>\n",
       "      <th>2000-07-01</th>\n",
       "      <td>-393.867</td>\n",
       "      <td>66.9</td>\n",
       "      <td>335.0</td>\n",
       "      <td>1.112769</td>\n",
       "      <td>2.712970</td>\n",
       "      <td>14145.312</td>\n",
       "    </tr>\n",
       "    <tr>\n",
       "      <th>2000-10-01</th>\n",
       "      <td>-411.343</td>\n",
       "      <td>66.8</td>\n",
       "      <td>334.0</td>\n",
       "      <td>1.112769</td>\n",
       "      <td>2.919941</td>\n",
       "      <td>14229.765</td>\n",
       "    </tr>\n",
       "    <tr>\n",
       "      <th>2001-01-01</th>\n",
       "      <td>-402.653</td>\n",
       "      <td>67.2</td>\n",
       "      <td>333.0</td>\n",
       "      <td>0.989741</td>\n",
       "      <td>2.878468</td>\n",
       "      <td>14183.120</td>\n",
       "    </tr>\n",
       "    <tr>\n",
       "      <th>...</th>\n",
       "      <td>...</td>\n",
       "      <td>...</td>\n",
       "      <td>...</td>\n",
       "      <td>...</td>\n",
       "      <td>...</td>\n",
       "      <td>...</td>\n",
       "    </tr>\n",
       "    <tr>\n",
       "      <th>2023-01-01</th>\n",
       "      <td>-813.648</td>\n",
       "      <td>62.4</td>\n",
       "      <td>364.0</td>\n",
       "      <td>0.491925</td>\n",
       "      <td>6.488339</td>\n",
       "      <td>22403.435</td>\n",
       "    </tr>\n",
       "    <tr>\n",
       "      <th>2023-04-01</th>\n",
       "      <td>-803.479</td>\n",
       "      <td>62.6</td>\n",
       "      <td>365.0</td>\n",
       "      <td>0.491925</td>\n",
       "      <td>6.267738</td>\n",
       "      <td>22539.418</td>\n",
       "    </tr>\n",
       "    <tr>\n",
       "      <th>2023-07-01</th>\n",
       "      <td>-781.091</td>\n",
       "      <td>62.6</td>\n",
       "      <td>366.0</td>\n",
       "      <td>0.491925</td>\n",
       "      <td>5.402919</td>\n",
       "      <td>22780.933</td>\n",
       "    </tr>\n",
       "    <tr>\n",
       "      <th>2023-10-01</th>\n",
       "      <td>-791.152</td>\n",
       "      <td>62.7</td>\n",
       "      <td>370.0</td>\n",
       "      <td>0.491925</td>\n",
       "      <td>4.882717</td>\n",
       "      <td>22960.600</td>\n",
       "    </tr>\n",
       "    <tr>\n",
       "      <th>2024-01-01</th>\n",
       "      <td>-841.569</td>\n",
       "      <td>62.5</td>\n",
       "      <td>365.0</td>\n",
       "      <td>0.491925</td>\n",
       "      <td>4.601332</td>\n",
       "      <td>23053.545</td>\n",
       "    </tr>\n",
       "  </tbody>\n",
       "</table>\n",
       "<p>97 rows × 6 columns</p>\n",
       "</div>"
      ]
     },
     "execution_count": 2,
     "metadata": {},
     "output_type": "execute_result"
    }
   ],
   "execution_count": 2
  },
  {
   "metadata": {
    "ExecuteTime": {
     "end_time": "2025-04-03T12:01:13.449162Z",
     "start_time": "2025-04-03T12:01:10.913829Z"
    }
   },
   "cell_type": "code",
   "source": [
    "gpd = GrowthPatternDetector()\n",
    "opt = gpd.find_opt_growth(df)\n",
    "opt"
   ],
   "id": "617579072a476308",
   "outputs": [
    {
     "data": {
      "text/plain": [
       "{'NETEXP': (Logarithmic(x, 59.58, 44.91, 1.0, 0.0), MSE = 23477.70),\n",
       " 'CIVPART': (Linear(x, -0.06), MSE = 0.35),\n",
       " 'RWAGE': (Exponential(x, 1.03, -11.42), MSE = 48.33),\n",
       " 'POPGROWTH': (Linear(x, -0.01), MSE = 0.02),\n",
       " 'CPI': (Exponential(x, 1.09, -0.21), MSE = 0.60),\n",
       " 'RGDP': (Exponential(x, 1.01, -12.18), MSE = 156831.00)}"
      ]
     },
     "execution_count": 3,
     "metadata": {},
     "output_type": "execute_result"
    }
   ],
   "execution_count": 3
  },
  {
   "metadata": {
    "ExecuteTime": {
     "end_time": "2025-04-03T12:01:13.564278Z",
     "start_time": "2025-04-03T12:01:13.450337Z"
    }
   },
   "cell_type": "code",
   "source": [
    "func = opt['NETEXP'][0]\n",
    "\n",
    "y_true = df['NETEXP']\n",
    "y_pred = [-356]\n",
    "for _ in range(len(y_true)):\n",
    "    y_pred.append(func(y_pred[-1]))\n",
    "\n",
    "y_pred = pd.Series(y_pred).iloc[:-1]\n",
    "y_pred.index = y_true.index\n",
    "\n",
    "plt.plot(y_true, label='Actual')\n",
    "plt.plot(y_pred, label='Predicted', linestyle='--')\n",
    "plt.legend()\n"
   ],
   "id": "e778e682b4f36ace",
   "outputs": [
    {
     "data": {
      "text/plain": [
       "<matplotlib.legend.Legend at 0x30ff09d30>"
      ]
     },
     "execution_count": 4,
     "metadata": {},
     "output_type": "execute_result"
    },
    {
     "data": {
      "text/plain": [
       "<Figure size 640x480 with 1 Axes>"
      ],
      "image/png": "[encoded data removed]"
     },
     "metadata": {},
     "output_type": "display_data"
    }
   ],
   "execution_count": 4
  },
  {
   "metadata": {
    "ExecuteTime": {
     "end_time": "2025-04-03T12:01:13.588570Z",
     "start_time": "2025-04-03T12:01:13.564938Z"
    }
   },
   "cell_type": "code",
   "source": "gpd.sympy_visualize['NETEXP']",
   "id": "d2689cb2ea98bc5c",
   "outputs": [
    {
     "data": {
      "text/plain": [
       "60.0*log(44.9117842627463*Abs(x)**0.99999999 + 1)*sign(x)"
      ],
      "text/latex": "$\\displaystyle 60.0 \\log{\\left(44.9117842627463 \\left|{x}\\right|^{0.99999999} + 1 \\right)} \\operatorname{sign}{\\left(x \\right)}$"
     },
     "execution_count": 5,
     "metadata": {},
     "output_type": "execute_result"
    }
   ],
   "execution_count": 5
  }
 ],
 "metadata": {
  "kernelspec": {
   "name": "macrosim",
   "language": "python",
   "display_name": "MacroSim"
  }
 },
 "nbformat": 5,
 "nbformat_minor": 9
}
