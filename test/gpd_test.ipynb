{
 "cells": [
  {
   "metadata": {
    "ExecuteTime": {
     "end_time": "2025-04-01T16:01:08.828235Z",
     "start_time": "2025-04-01T16:01:03.481442Z"
    }
   },
   "cell_type": "code",
   "source": [
    "import matplotlib.pyplot as plt\n",
    "from PIL.GimpGradientFile import linear\n",
    "\n",
    "from macrosim.SeriesAccessor import SeriesAccessor\n",
    "from macrosim.GrowthPatternDetector import GrowthPatternDetector\n",
    "import pandas as pd\n",
    "import numpy as np\n",
    "import datetime as dt"
   ],
   "id": "fb9d6a41bb00cfdf",
   "outputs": [
    {
     "name": "stdout",
     "output_type": "stream",
     "text": [
      "Detected IPython. Loading juliacall extension. See https://juliapy.github.io/PythonCall.jl/stable/compat/#IPython\n"
     ]
    }
   ],
   "execution_count": 1
  },
  {
   "metadata": {
    "ExecuteTime": {
     "end_time": "2025-04-01T16:01:10.883215Z",
     "start_time": "2025-04-01T16:01:08.829356Z"
    }
   },
   "cell_type": "code",
   "source": [
    "fred = SeriesAccessor(\n",
    "    key_path='../fred_key.env',\n",
    "    key_name='fred_key'\n",
    ")\n",
    "\n",
    "start = dt.datetime.fromisoformat(\"2000-01-01\")\n",
    "end = dt.datetime.fromisoformat(\"2024-01-01\")\n",
    "\n",
    "df = fred.get_series(\n",
    "    series_ids=['NETEXP', 'CIVPART', 'LES1252881600Q', 'SPPOPGROWUSA', 'CORESTICKM159SFRBATL', 'GDPC1'],\n",
    "    date_range=(start, end), reindex_freq='QS', series_alias=['NETEXP', 'CIVPART', 'RWAGE', 'POPGROWTH', 'CPI', 'RGDP'])\n",
    "\n",
    "df = fred.fill(\n",
    "    df,\n",
    "    [*[None] * 3, 'ffill']\n",
    ")\n",
    "df"
   ],
   "id": "20b8b7079bed4cad",
   "outputs": [
    {
     "data": {
      "text/plain": [
       "             NETEXP  CIVPART  RWAGE  POPGROWTH       CPI       RGDP\n",
       "2000-01-01 -356.583     67.3  334.0   1.112769  2.335519  13878.147\n",
       "2000-04-01 -362.501     67.3  334.0   1.112769  2.409239  14130.908\n",
       "2000-07-01 -393.867     66.9  335.0   1.112769  2.712970  14145.312\n",
       "2000-10-01 -411.343     66.8  334.0   1.112769  2.919941  14229.765\n",
       "2001-01-01 -402.653     67.2  333.0   0.989741  2.878468  14183.120\n",
       "...             ...      ...    ...        ...       ...        ...\n",
       "2023-01-01 -813.648     62.4  364.0   0.491925  6.488339  22403.435\n",
       "2023-04-01 -803.479     62.6  365.0   0.491925  6.267738  22539.418\n",
       "2023-07-01 -781.091     62.6  366.0   0.491925  5.402919  22780.933\n",
       "2023-10-01 -791.152     62.7  370.0   0.491925  4.882717  22960.600\n",
       "2024-01-01 -841.569     62.5  365.0   0.491925  4.601332  23053.545\n",
       "\n",
       "[97 rows x 6 columns]"
      ],
      "text/html": [
       "<div>\n",
       "<style scoped>\n",
       "    .dataframe tbody tr th:only-of-type {\n",
       "        vertical-align: middle;\n",
       "    }\n",
       "\n",
       "    .dataframe tbody tr th {\n",
       "        vertical-align: top;\n",
       "    }\n",
       "\n",
       "    .dataframe thead th {\n",
       "        text-align: right;\n",
       "    }\n",
       "</style>\n",
       "<table border=\"1\" class=\"dataframe\">\n",
       "  <thead>\n",
       "    <tr style=\"text-align: right;\">\n",
       "      <th></th>\n",
       "      <th>NETEXP</th>\n",
       "      <th>CIVPART</th>\n",
       "      <th>RWAGE</th>\n",
       "      <th>POPGROWTH</th>\n",
       "      <th>CPI</th>\n",
       "      <th>RGDP</th>\n",
       "    </tr>\n",
       "  </thead>\n",
       "  <tbody>\n",
       "    <tr>\n",
       "      <th>2000-01-01</th>\n",
       "      <td>-356.583</td>\n",
       "      <td>67.3</td>\n",
       "      <td>334.0</td>\n",
       "      <td>1.112769</td>\n",
       "      <td>2.335519</td>\n",
       "      <td>13878.147</td>\n",
       "    </tr>\n",
       "    <tr>\n",
       "      <th>2000-04-01</th>\n",
       "      <td>-362.501</td>\n",
       "      <td>67.3</td>\n",
       "      <td>334.0</td>\n",
       "      <td>1.112769</td>\n",
       "      <td>2.409239</td>\n",
       "      <td>14130.908</td>\n",
       "    </tr>\n",
       "    <tr>\n",
       "      <th>2000-07-01</th>\n",
       "      <td>-393.867</td>\n",
       "      <td>66.9</td>\n",
       "      <td>335.0</td>\n",
       "      <td>1.112769</td>\n",
       "      <td>2.712970</td>\n",
       "      <td>14145.312</td>\n",
       "    </tr>\n",
       "    <tr>\n",
       "      <th>2000-10-01</th>\n",
       "      <td>-411.343</td>\n",
       "      <td>66.8</td>\n",
       "      <td>334.0</td>\n",
       "      <td>1.112769</td>\n",
       "      <td>2.919941</td>\n",
       "      <td>14229.765</td>\n",
       "    </tr>\n",
       "    <tr>\n",
       "      <th>2001-01-01</th>\n",
       "      <td>-402.653</td>\n",
       "      <td>67.2</td>\n",
       "      <td>333.0</td>\n",
       "      <td>0.989741</td>\n",
       "      <td>2.878468</td>\n",
       "      <td>14183.120</td>\n",
       "    </tr>\n",
       "    <tr>\n",
       "      <th>...</th>\n",
       "      <td>...</td>\n",
       "      <td>...</td>\n",
       "      <td>...</td>\n",
       "      <td>...</td>\n",
       "      <td>...</td>\n",
       "      <td>...</td>\n",
       "    </tr>\n",
       "    <tr>\n",
       "      <th>2023-01-01</th>\n",
       "      <td>-813.648</td>\n",
       "      <td>62.4</td>\n",
       "      <td>364.0</td>\n",
       "      <td>0.491925</td>\n",
       "      <td>6.488339</td>\n",
       "      <td>22403.435</td>\n",
       "    </tr>\n",
       "    <tr>\n",
       "      <th>2023-04-01</th>\n",
       "      <td>-803.479</td>\n",
       "      <td>62.6</td>\n",
       "      <td>365.0</td>\n",
       "      <td>0.491925</td>\n",
       "      <td>6.267738</td>\n",
       "      <td>22539.418</td>\n",
       "    </tr>\n",
       "    <tr>\n",
       "      <th>2023-07-01</th>\n",
       "      <td>-781.091</td>\n",
       "      <td>62.6</td>\n",
       "      <td>366.0</td>\n",
       "      <td>0.491925</td>\n",
       "      <td>5.402919</td>\n",
       "      <td>22780.933</td>\n",
       "    </tr>\n",
       "    <tr>\n",
       "      <th>2023-10-01</th>\n",
       "      <td>-791.152</td>\n",
       "      <td>62.7</td>\n",
       "      <td>370.0</td>\n",
       "      <td>0.491925</td>\n",
       "      <td>4.882717</td>\n",
       "      <td>22960.600</td>\n",
       "    </tr>\n",
       "    <tr>\n",
       "      <th>2024-01-01</th>\n",
       "      <td>-841.569</td>\n",
       "      <td>62.5</td>\n",
       "      <td>365.0</td>\n",
       "      <td>0.491925</td>\n",
       "      <td>4.601332</td>\n",
       "      <td>23053.545</td>\n",
       "    </tr>\n",
       "  </tbody>\n",
       "</table>\n",
       "<p>97 rows × 6 columns</p>\n",
       "</div>"
      ]
     },
     "execution_count": 2,
     "metadata": {},
     "output_type": "execute_result"
    }
   ],
   "execution_count": 2
  },
  {
   "metadata": {
    "ExecuteTime": {
     "end_time": "2025-04-01T16:01:11.106799Z",
     "start_time": "2025-04-01T16:01:10.884397Z"
    }
   },
   "cell_type": "code",
   "source": [
    "gpd = GrowthPatternDetector()\n",
    "opt = gpd.find_opt_growth(df)\n",
    "print(opt)\n",
    "# y_true = df['CPI']\n",
    "# y_pred = [2.33]\n",
    "# for _ in range(len(y_true)):\n",
    "#     y_pred.append(func(y_pred[-1]))\n",
    "# \n",
    "# y_pred = pd.Series(y_pred).iloc[:-1]\n",
    "# y_pred.index = y_true.index\n",
    "# \n",
    "# plt.plot(y_true, label='Actual')\n",
    "# plt.plot(y_pred, label='Predicted', linestyle='--')\n",
    "# plt.legend()\n"
   ],
   "id": "e778e682b4f36ace",
   "outputs": [
    {
     "name": "stderr",
     "output_type": "stream",
     "text": [
      "/Users/guneykiymac/Desktop/Portfolio/MacroSim/macrosim/GrowthPatternDetector.py:17: RuntimeWarning: invalid value encountered in scalar power\n",
      "  return a*x**r + c\n",
      "/Users/guneykiymac/Desktop/Portfolio/MacroSim/macrosim/GrowthPatternDetector.py:17: RuntimeWarning: invalid value encountered in scalar power\n",
      "  return a*x**r + c\n",
      "/Users/guneykiymac/Desktop/Portfolio/MacroSim/macrosim/GrowthPatternDetector.py:17: RuntimeWarning: invalid value encountered in scalar power\n",
      "  return a*x**r + c\n",
      "/Users/guneykiymac/Desktop/Portfolio/MacroSim/macrosim/GrowthPatternDetector.py:17: RuntimeWarning: invalid value encountered in scalar power\n",
      "  return a*x**r + c\n"
     ]
    },
    {
     "name": "stdout",
     "output_type": "stream",
     "text": [
      "{'NETEXP': (<function GrowthPatternDetector._exp_optimize.<locals>.fitted_func.<locals>.<lambda> at 0x17ff11f80>, np.float64(19588.63703922129)), 'CIVPART': (<function GrowthPatternDetector._exp_optimize.<locals>.fitted_func.<locals>.<lambda> at 0x17ff12340>, np.float64(0.3218710568478348)), 'RWAGE': (<function GrowthPatternDetector._exp_optimize.<locals>.fitted_func.<locals>.<lambda> at 0x17ff11ee0>, np.float64(47.91748172336417)), 'POPGROWTH': (<function GrowthPatternDetector._exp_optimize.<locals>.fitted_func.<locals>.<lambda> at 0x17ff12020>, np.float64(0.01729712634777821)), 'CPI': (<function GrowthPatternDetector._exp_optimize.<locals>.fitted_func.<locals>.<lambda> at 0x17ff10860>, np.float64(0.6055009880569868)), 'RGDP': (<function GrowthPatternDetector._exp_optimize.<locals>.fitted_func.<locals>.<lambda> at 0x17ff12520>, np.float64(147987.25801195102))}\n"
     ]
    }
   ],
   "execution_count": 3
  }
 ],
 "metadata": {
  "kernelspec": {
   "name": "macrosim",
   "language": "python",
   "display_name": "MacroSim"
  }
 },
 "nbformat": 5,
 "nbformat_minor": 9
}
