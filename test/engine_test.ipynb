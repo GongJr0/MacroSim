{
 "cells": [
  {
   "cell_type": "code",
   "id": "initial_id",
   "metadata": {
    "collapsed": true,
    "ExecuteTime": {
     "end_time": "2025-03-31T11:15:31.712064Z",
     "start_time": "2025-03-31T11:15:30.735184Z"
    }
   },
   "source": [
    "import sympy as sp\n",
    "import pandas as pd\n",
    "import pickle\n",
    "import matplotlib.pyplot as plt\n",
    "from macrosim.SimEngine import SimEngine"
   ],
   "outputs": [],
   "execution_count": 6
  },
  {
   "metadata": {
    "ExecuteTime": {
     "end_time": "2025-03-31T11:15:10.275765Z",
     "start_time": "2025-03-31T11:15:10.230150Z"
    }
   },
   "cell_type": "code",
   "source": [
    "with open('../temp_eq.pkl', 'rb') as f:\n",
    "    eq = pickle.load(f)\n",
    "\n",
    "engine = SimEngine(\n",
    "    eq=eq,\n",
    "    init_params={\n",
    "        'NETEXP': (-500, lambda x: x),\n",
    "        'CIVPART': (70, lambda x: x),\n",
    "        'RWAGE': (400, lambda x: x * 1.01),\n",
    "        'POPGROWTH': (1, lambda x: x * 1.02),\n",
    "        'CPI': (4, lambda x: x)\n",
    "    }\n",
    ")"
   ],
   "id": "d05c8abee89869b7",
   "outputs": [],
   "execution_count": 3
  },
  {
   "metadata": {
    "ExecuteTime": {
     "end_time": "2025-03-31T11:15:25.311973Z",
     "start_time": "2025-03-31T11:15:24.917910Z"
    }
   },
   "cell_type": "code",
   "source": [
    "for _ in range(100):\n",
    "    next(engine._simulate())\n",
    "engine.get_history()"
   ],
   "id": "53ad9e71eaff9f95",
   "outputs": [
    {
     "data": {
      "text/plain": [
       "          NETEXP    CIVPART       RWAGE  POPGROWTH       CPI        output\n",
       "step                                                                      \n",
       "0    -506.208927  69.758037  410.541654   1.058837  3.976585  14391.983843\n",
       "1    -503.245871  72.512107  422.602435   1.067338  4.030523  14849.774651\n",
       "2    -497.415545  71.667831  429.410369   1.036611  3.856715  12963.331540\n",
       "3    -490.423282  69.853146  437.111734   1.033341  3.720544  13850.991234\n",
       "4    -508.392988  69.458866  442.228165   1.016465  3.669909  15515.587941\n",
       "...          ...        ...         ...        ...       ...           ...\n",
       "95   -447.581656  84.875114  856.400500   8.935510  3.544849   6720.095140\n",
       "96   -446.150317  82.847574  830.226528   9.160581  3.477821   5103.804556\n",
       "97   -430.286843  81.508399  815.856065   9.737900  3.554475   5631.970027\n",
       "98   -430.201080  84.524096  825.608441   9.718787  3.689823   5431.754836\n",
       "99   -435.997072  82.332289  829.896609   9.696159  3.562266   3311.423109\n",
       "\n",
       "[100 rows x 6 columns]"
      ],
      "text/html": [
       "<div>\n",
       "<style scoped>\n",
       "    .dataframe tbody tr th:only-of-type {\n",
       "        vertical-align: middle;\n",
       "    }\n",
       "\n",
       "    .dataframe tbody tr th {\n",
       "        vertical-align: top;\n",
       "    }\n",
       "\n",
       "    .dataframe thead th {\n",
       "        text-align: right;\n",
       "    }\n",
       "</style>\n",
       "<table border=\"1\" class=\"dataframe\">\n",
       "  <thead>\n",
       "    <tr style=\"text-align: right;\">\n",
       "      <th></th>\n",
       "      <th>NETEXP</th>\n",
       "      <th>CIVPART</th>\n",
       "      <th>RWAGE</th>\n",
       "      <th>POPGROWTH</th>\n",
       "      <th>CPI</th>\n",
       "      <th>output</th>\n",
       "    </tr>\n",
       "    <tr>\n",
       "      <th>step</th>\n",
       "      <th></th>\n",
       "      <th></th>\n",
       "      <th></th>\n",
       "      <th></th>\n",
       "      <th></th>\n",
       "      <th></th>\n",
       "    </tr>\n",
       "  </thead>\n",
       "  <tbody>\n",
       "    <tr>\n",
       "      <th>0</th>\n",
       "      <td>-506.208927</td>\n",
       "      <td>69.758037</td>\n",
       "      <td>410.541654</td>\n",
       "      <td>1.058837</td>\n",
       "      <td>3.976585</td>\n",
       "      <td>14391.983843</td>\n",
       "    </tr>\n",
       "    <tr>\n",
       "      <th>1</th>\n",
       "      <td>-503.245871</td>\n",
       "      <td>72.512107</td>\n",
       "      <td>422.602435</td>\n",
       "      <td>1.067338</td>\n",
       "      <td>4.030523</td>\n",
       "      <td>14849.774651</td>\n",
       "    </tr>\n",
       "    <tr>\n",
       "      <th>2</th>\n",
       "      <td>-497.415545</td>\n",
       "      <td>71.667831</td>\n",
       "      <td>429.410369</td>\n",
       "      <td>1.036611</td>\n",
       "      <td>3.856715</td>\n",
       "      <td>12963.331540</td>\n",
       "    </tr>\n",
       "    <tr>\n",
       "      <th>3</th>\n",
       "      <td>-490.423282</td>\n",
       "      <td>69.853146</td>\n",
       "      <td>437.111734</td>\n",
       "      <td>1.033341</td>\n",
       "      <td>3.720544</td>\n",
       "      <td>13850.991234</td>\n",
       "    </tr>\n",
       "    <tr>\n",
       "      <th>4</th>\n",
       "      <td>-508.392988</td>\n",
       "      <td>69.458866</td>\n",
       "      <td>442.228165</td>\n",
       "      <td>1.016465</td>\n",
       "      <td>3.669909</td>\n",
       "      <td>15515.587941</td>\n",
       "    </tr>\n",
       "    <tr>\n",
       "      <th>...</th>\n",
       "      <td>...</td>\n",
       "      <td>...</td>\n",
       "      <td>...</td>\n",
       "      <td>...</td>\n",
       "      <td>...</td>\n",
       "      <td>...</td>\n",
       "    </tr>\n",
       "    <tr>\n",
       "      <th>95</th>\n",
       "      <td>-447.581656</td>\n",
       "      <td>84.875114</td>\n",
       "      <td>856.400500</td>\n",
       "      <td>8.935510</td>\n",
       "      <td>3.544849</td>\n",
       "      <td>6720.095140</td>\n",
       "    </tr>\n",
       "    <tr>\n",
       "      <th>96</th>\n",
       "      <td>-446.150317</td>\n",
       "      <td>82.847574</td>\n",
       "      <td>830.226528</td>\n",
       "      <td>9.160581</td>\n",
       "      <td>3.477821</td>\n",
       "      <td>5103.804556</td>\n",
       "    </tr>\n",
       "    <tr>\n",
       "      <th>97</th>\n",
       "      <td>-430.286843</td>\n",
       "      <td>81.508399</td>\n",
       "      <td>815.856065</td>\n",
       "      <td>9.737900</td>\n",
       "      <td>3.554475</td>\n",
       "      <td>5631.970027</td>\n",
       "    </tr>\n",
       "    <tr>\n",
       "      <th>98</th>\n",
       "      <td>-430.201080</td>\n",
       "      <td>84.524096</td>\n",
       "      <td>825.608441</td>\n",
       "      <td>9.718787</td>\n",
       "      <td>3.689823</td>\n",
       "      <td>5431.754836</td>\n",
       "    </tr>\n",
       "    <tr>\n",
       "      <th>99</th>\n",
       "      <td>-435.997072</td>\n",
       "      <td>82.332289</td>\n",
       "      <td>829.896609</td>\n",
       "      <td>9.696159</td>\n",
       "      <td>3.562266</td>\n",
       "      <td>3311.423109</td>\n",
       "    </tr>\n",
       "  </tbody>\n",
       "</table>\n",
       "<p>100 rows × 6 columns</p>\n",
       "</div>"
      ]
     },
     "execution_count": 4,
     "metadata": {},
     "output_type": "execute_result"
    }
   ],
   "execution_count": 4
  },
  {
   "metadata": {
    "ExecuteTime": {
     "end_time": "2025-03-31T11:15:33.605861Z",
     "start_time": "2025-03-31T11:15:33.299340Z"
    }
   },
   "cell_type": "code",
   "source": "plt.plot(engine.get_history()['output'])",
   "id": "bb723247587dece4",
   "outputs": [
    {
     "data": {
      "text/plain": [
       "[<matplotlib.lines.Line2D at 0x22a50374890>]"
      ]
     },
     "execution_count": 7,
     "metadata": {},
     "output_type": "execute_result"
    },
    {
     "data": {
      "text/plain": [
       "<Figure size 640x480 with 1 Axes>"
      ],
      "image/png": "[encoded data removed]"
     },
     "metadata": {},
     "output_type": "display_data"
    }
   ],
   "execution_count": 7
  }
 ],
 "metadata": {
  "kernelspec": {
   "display_name": "Python 3",
   "language": "python",
   "name": "python3"
  },
  "language_info": {
   "codemirror_mode": {
    "name": "ipython",
    "version": 2
   },
   "file_extension": ".py",
   "mimetype": "text/x-python",
   "name": "python",
   "nbconvert_exporter": "python",
   "pygments_lexer": "ipython2",
   "version": "2.7.6"
  }
 },
 "nbformat": 4,
 "nbformat_minor": 5
}
