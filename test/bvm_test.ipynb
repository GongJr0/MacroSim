{
 "cells": [
  {
   "metadata": {
    "ExecuteTime": {
     "end_time": "2025-04-06T00:20:20.886932Z",
     "start_time": "2025-04-06T00:20:14.374120Z"
    }
   },
   "cell_type": "code",
   "source": [
    "from macrosim.SeriesAccessor import SeriesAccessor\n",
    "from macrosim.BaseVarSelector import BaseVarSelector\n",
    "from macrosim.BaseVarModel import BaseVarModel\n",
    "\n",
    "import pandas as pd\n",
    "import numpy as np\n",
    "import datetime as dt"
   ],
   "id": "e03ad85a09a32c9",
   "outputs": [
    {
     "name": "stdout",
     "output_type": "stream",
     "text": [
      "Detected IPython. Loading juliacall extension. See https://juliapy.github.io/PythonCall.jl/stable/compat/#IPython\n"
     ]
    }
   ],
   "execution_count": 1
  },
  {
   "metadata": {
    "ExecuteTime": {
     "end_time": "2025-04-06T00:20:22.527455Z",
     "start_time": "2025-04-06T00:20:20.899444Z"
    }
   },
   "cell_type": "code",
   "source": [
    "fred = SeriesAccessor(\n",
    "    key_path='../fred_key.env',\n",
    "    key_name='FRED_KEY'\n",
    ")\n",
    "\n",
    "start = dt.datetime.fromisoformat('2002-01-01')\n",
    "end = dt.datetime.fromisoformat('2024-01-01')\n",
    "\n",
    "df = fred.get_series(\n",
    "    series_ids = ['NETEXP', 'CIVPART', 'CORESTICKM159SFRBATL', 'LES1252881600Q', 'SPPOPGROWUSA', 'A264RX1A020NBEA', 'GDPC1'],\n",
    "    series_alias=[None, None, 'CPI', 'RWAGE', 'POPGROWTH', 'I_C', 'RGDP'],\n",
    "    reindex_freq='QS',\n",
    "    date_range=(start, end),\n",
    "\n",
    ")\n",
    "df = fred.fill(\n",
    "    data=df,\n",
    "    methods=[None, None, None, None, 'ffill', 'divide', None]\n",
    ")"
   ],
   "id": "e50bb81578140e9b",
   "outputs": [],
   "execution_count": 2
  },
  {
   "metadata": {},
   "cell_type": "code",
   "source": [
    "bvm = BaseVarModel(df=df)\n",
    "candidates = bvm.get_base_candidates()\n",
    "\n",
    "bvm.symbolic_model(candidate=candidates['POPGROWTH'], progress=True, niterations=100, constraints={'atan': 2})\n",
    "if bvm.model_select() == bvm.sr:\n",
    "    print(bvm.sr.get_best())"
   ],
   "id": "b4331d7aadf3718",
   "outputs": [],
   "execution_count": null
  },
  {
   "metadata": {
    "ExecuteTime": {
     "end_time": "2025-04-06T00:22:32.750010Z",
     "start_time": "2025-04-06T00:22:32.734702Z"
    }
   },
   "cell_type": "code",
   "source": "bvm.sr.get_best()['sympy_format']",
   "id": "51d163fdd466d201",
   "outputs": [
    {
     "data": {
      "text/plain": [
       "-0.68319845*atan(X_t4*atan(atan(16.2944225862776*X_t1 - 12.0375402730957*X_t4*(X_t1*(X_t2 + X_t4) + X_t1) + 0.504385516672294)) - 0.7352841)"
      ],
      "text/latex": "$\\displaystyle - 0.68319845 \\operatorname{atan}{\\left(X_{t4} \\operatorname{atan}{\\left(\\operatorname{atan}{\\left(16.2944225862776 X_{t1} - 12.0375402730957 X_{t4} \\left(X_{t1} \\left(X_{t2} + X_{t4}\\right) + X_{t1}\\right) + 0.504385516672294 \\right)} \\right)} - 0.7352841 \\right)}$"
     },
     "execution_count": 4,
     "metadata": {},
     "output_type": "execute_result"
    },
    {
     "name": "stdout",
     "output_type": "stream",
     "text": [
      "Error in callback _flush_stdio (for post_execute), with arguments args (),kwargs {}:\n"
     ]
    },
    {
     "ename": "UnicodeDecodeError",
     "evalue": "'utf-8' codec can't decode bytes in position 4094-4095: unexpected end of data",
     "output_type": "error",
     "traceback": [
      "\u001B[1;31m---------------------------------------------------------------------------\u001B[0m",
      "\u001B[1;31mUnicodeDecodeError\u001B[0m                        Traceback (most recent call last)",
      "File \u001B[1;32m~\\.julia\\packages\\PythonCall\\WMWY0\\src\\JlWrap\\any.jl:262\u001B[0m, in \u001B[0;36m__call__\u001B[1;34m(self, *args, **kwargs)\u001B[0m\n\u001B[0;32m    260\u001B[0m     return ValueBase.__dir__(self) + self._jl_callmethod($(pyjl_methodnum(pyjlany_dir)))\n\u001B[0;32m    261\u001B[0m def __call__(self, *args, **kwargs):\n\u001B[1;32m--> 262\u001B[0m     return self._jl_callmethod($(pyjl_methodnum(pyjlany_call)), args, kwargs)\n\u001B[0;32m    263\u001B[0m def __bool__(self):\n\u001B[0;32m    264\u001B[0m     return True\n",
      "\u001B[1;31mUnicodeDecodeError\u001B[0m: 'utf-8' codec can't decode bytes in position 4094-4095: unexpected end of data"
     ]
    }
   ],
   "execution_count": 4
  }
 ],
 "metadata": {
  "kernelspec": {
   "name": "python3",
   "language": "python",
   "display_name": "Python 3 (ipykernel)"
  }
 },
 "nbformat": 5,
 "nbformat_minor": 9
}
