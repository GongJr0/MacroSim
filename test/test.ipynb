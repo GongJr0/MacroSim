{
 "cells": [
  {
   "cell_type": "code",
   "id": "initial_id",
   "metadata": {
    "collapsed": true,
    "ExecuteTime": {
     "end_time": "2025-03-31T17:04:37.305643Z",
     "start_time": "2025-03-31T17:04:32.113790Z"
    }
   },
   "source": [
    "import pandas as pd\n",
    "import datetime as dt\n",
    "import matplotlib.pyplot as plt\n",
    "import sympy as sp\n",
    "\n",
    "from macrosim.SeriesAccessor import SeriesAccessor\n",
    "from macrosim.EqSearch import EqSearch\n",
    "from macrosim.SimEngine import SimEngine\n",
    "\n",
    "import corner"
   ],
   "outputs": [
    {
     "name": "stdout",
     "output_type": "stream",
     "text": [
      "Detected IPython. Loading juliacall extension. See https://juliapy.github.io/PythonCall.jl/stable/compat/#IPython\n"
     ]
    }
   ],
   "execution_count": 1
  },
  {
   "metadata": {
    "ExecuteTime": {
     "end_time": "2025-03-31T17:04:37.310098Z",
     "start_time": "2025-03-31T17:04:37.306811Z"
    }
   },
   "cell_type": "code",
   "source": "fred = SeriesAccessor(key_path='../fred_key.env', key_name='fred_key')",
   "id": "2c997c672a3a98e3",
   "outputs": [],
   "execution_count": 2
  },
  {
   "metadata": {
    "ExecuteTime": {
     "end_time": "2025-03-31T17:04:37.312470Z",
     "start_time": "2025-03-31T17:04:37.310599Z"
    }
   },
   "cell_type": "code",
   "source": [
    "start = dt.datetime.fromisoformat(\"2000-01-01\")\n",
    "end = dt.datetime.fromisoformat(\"2024-01-01\")"
   ],
   "id": "757aaa8f25fa90dc",
   "outputs": [],
   "execution_count": 3
  },
  {
   "metadata": {
    "ExecuteTime": {
     "end_time": "2025-03-31T17:04:38.726095Z",
     "start_time": "2025-03-31T17:04:37.313122Z"
    }
   },
   "cell_type": "code",
   "source": "df = fred.get_series(series_ids=['CPIAUCSL', 'A264RX1A020NBEA', 'PSAVERT', 'M2REAL', 'GDPC1'], date_range=(start, end), reindex_freq='QS', series_alias=['CPI', 'CAPINV','SRATE', 'M_2','RGDP'])",
   "id": "b5fbd56456b5e966",
   "outputs": [],
   "execution_count": 4
  },
  {
   "metadata": {
    "ExecuteTime": {
     "end_time": "2025-03-31T17:04:38.742496Z",
     "start_time": "2025-03-31T17:04:38.728663Z"
    }
   },
   "cell_type": "code",
   "source": [
    "df = fred.fill(\n",
    "    df,\n",
    "    [None, 'ffill', None, None, None]\n",
    ")\n",
    "df"
   ],
   "id": "6519a088abe8ce38",
   "outputs": [
    {
     "data": {
      "text/plain": [
       "                CPI   CAPINV  SRATE     M_2       RGDP\n",
       "2000-01-01  169.300  385.205    4.5  2757.0  13878.147\n",
       "2000-04-01  170.900  385.205    4.3  2789.8  14130.908\n",
       "2000-07-01  172.700  385.205    4.7  2774.3  14145.312\n",
       "2000-10-01  173.900  385.205    4.3  2801.3  14229.765\n",
       "2001-01-01  175.600  392.441    4.5  2835.1  14183.120\n",
       "...             ...      ...    ...     ...        ...\n",
       "2023-01-01  300.456  633.170    4.2  7057.6  22403.435\n",
       "2023-04-01  302.858  633.170    5.0  6844.8  22539.418\n",
       "2023-07-01  304.615  633.170    4.6  6819.2  22780.933\n",
       "2023-10-01  307.653  633.170    4.5  6724.2  22960.600\n",
       "2024-01-01  309.794  649.030    5.5  6705.5  23053.545\n",
       "\n",
       "[97 rows x 5 columns]"
      ],
      "text/html": [
       "<div>\n",
       "<style scoped>\n",
       "    .dataframe tbody tr th:only-of-type {\n",
       "        vertical-align: middle;\n",
       "    }\n",
       "\n",
       "    .dataframe tbody tr th {\n",
       "        vertical-align: top;\n",
       "    }\n",
       "\n",
       "    .dataframe thead th {\n",
       "        text-align: right;\n",
       "    }\n",
       "</style>\n",
       "<table border=\"1\" class=\"dataframe\">\n",
       "  <thead>\n",
       "    <tr style=\"text-align: right;\">\n",
       "      <th></th>\n",
       "      <th>CPI</th>\n",
       "      <th>CAPINV</th>\n",
       "      <th>SRATE</th>\n",
       "      <th>M_2</th>\n",
       "      <th>RGDP</th>\n",
       "    </tr>\n",
       "  </thead>\n",
       "  <tbody>\n",
       "    <tr>\n",
       "      <th>2000-01-01</th>\n",
       "      <td>169.300</td>\n",
       "      <td>385.205</td>\n",
       "      <td>4.5</td>\n",
       "      <td>2757.0</td>\n",
       "      <td>13878.147</td>\n",
       "    </tr>\n",
       "    <tr>\n",
       "      <th>2000-04-01</th>\n",
       "      <td>170.900</td>\n",
       "      <td>385.205</td>\n",
       "      <td>4.3</td>\n",
       "      <td>2789.8</td>\n",
       "      <td>14130.908</td>\n",
       "    </tr>\n",
       "    <tr>\n",
       "      <th>2000-07-01</th>\n",
       "      <td>172.700</td>\n",
       "      <td>385.205</td>\n",
       "      <td>4.7</td>\n",
       "      <td>2774.3</td>\n",
       "      <td>14145.312</td>\n",
       "    </tr>\n",
       "    <tr>\n",
       "      <th>2000-10-01</th>\n",
       "      <td>173.900</td>\n",
       "      <td>385.205</td>\n",
       "      <td>4.3</td>\n",
       "      <td>2801.3</td>\n",
       "      <td>14229.765</td>\n",
       "    </tr>\n",
       "    <tr>\n",
       "      <th>2001-01-01</th>\n",
       "      <td>175.600</td>\n",
       "      <td>392.441</td>\n",
       "      <td>4.5</td>\n",
       "      <td>2835.1</td>\n",
       "      <td>14183.120</td>\n",
       "    </tr>\n",
       "    <tr>\n",
       "      <th>...</th>\n",
       "      <td>...</td>\n",
       "      <td>...</td>\n",
       "      <td>...</td>\n",
       "      <td>...</td>\n",
       "      <td>...</td>\n",
       "    </tr>\n",
       "    <tr>\n",
       "      <th>2023-01-01</th>\n",
       "      <td>300.456</td>\n",
       "      <td>633.170</td>\n",
       "      <td>4.2</td>\n",
       "      <td>7057.6</td>\n",
       "      <td>22403.435</td>\n",
       "    </tr>\n",
       "    <tr>\n",
       "      <th>2023-04-01</th>\n",
       "      <td>302.858</td>\n",
       "      <td>633.170</td>\n",
       "      <td>5.0</td>\n",
       "      <td>6844.8</td>\n",
       "      <td>22539.418</td>\n",
       "    </tr>\n",
       "    <tr>\n",
       "      <th>2023-07-01</th>\n",
       "      <td>304.615</td>\n",
       "      <td>633.170</td>\n",
       "      <td>4.6</td>\n",
       "      <td>6819.2</td>\n",
       "      <td>22780.933</td>\n",
       "    </tr>\n",
       "    <tr>\n",
       "      <th>2023-10-01</th>\n",
       "      <td>307.653</td>\n",
       "      <td>633.170</td>\n",
       "      <td>4.5</td>\n",
       "      <td>6724.2</td>\n",
       "      <td>22960.600</td>\n",
       "    </tr>\n",
       "    <tr>\n",
       "      <th>2024-01-01</th>\n",
       "      <td>309.794</td>\n",
       "      <td>649.030</td>\n",
       "      <td>5.5</td>\n",
       "      <td>6705.5</td>\n",
       "      <td>23053.545</td>\n",
       "    </tr>\n",
       "  </tbody>\n",
       "</table>\n",
       "<p>97 rows × 5 columns</p>\n",
       "</div>"
      ]
     },
     "execution_count": 5,
     "metadata": {},
     "output_type": "execute_result"
    }
   ],
   "execution_count": 5
  },
  {
   "metadata": {
    "ExecuteTime": {
     "end_time": "2025-03-31T17:04:38.746242Z",
     "start_time": "2025-03-31T17:04:38.743347Z"
    }
   },
   "cell_type": "code",
   "source": "#corner.corner(df, labels=df.columns, bins=10)",
   "id": "bb4bd7602e18038f",
   "outputs": [],
   "execution_count": 6
  },
  {
   "metadata": {
    "ExecuteTime": {
     "end_time": "2025-03-31T17:04:38.749941Z",
     "start_time": "2025-03-31T17:04:38.746982Z"
    }
   },
   "cell_type": "code",
   "source": [
    "eqsr = EqSearch(\n",
    "    X=df.drop(columns=['RGDP']),\n",
    "    y=df['RGDP']\n",
    ")"
   ],
   "id": "1ae5a3173e49fe00",
   "outputs": [],
   "execution_count": 7
  },
  {
   "metadata": {
    "ExecuteTime": {
     "end_time": "2025-03-31T17:04:38.813089Z",
     "start_time": "2025-03-31T17:04:38.750657Z"
    }
   },
   "cell_type": "code",
   "source": "eqsr.distil_split()",
   "id": "673949dea917f5a0",
   "outputs": [
    {
     "name": "stdout",
     "output_type": "stream",
     "text": [
      "RandomForest Score at Distillation: 0.9742405487519203\n"
     ]
    }
   ],
   "execution_count": 8
  },
  {
   "metadata": {
    "ExecuteTime": {
     "end_time": "2025-03-31T17:05:20.765986Z",
     "start_time": "2025-03-31T17:04:38.813668Z"
    }
   },
   "cell_type": "code",
   "source": [
    "eqsr.search(\n",
    "    constraints={'sqrt': 2, 'inv':3}\n",
    ")"
   ],
   "id": "d73efdcbbf944ca3",
   "outputs": [
    {
     "name": "stderr",
     "output_type": "stream",
     "text": [
      "Compiling Julia backend...\n",
      "[ Info: Started!\n"
     ]
    },
    {
     "name": "stdout",
     "output_type": "stream",
     "text": [
      "\n",
      "Expressions evaluated per second: 2.480e+05\n",
      "Progress: 1017 / 9300 total iterations (10.935%)\n",
      "════════════════════════════════════════════════════════════════════════════════════════════════════\n",
      "───────────────────────────────────────────────────────────────────────────────────────────────────\n",
      "Complexity  Loss       Score      Equation\n",
      "1           6.330e+06  1.594e+01  y = 17892\n",
      "3           3.234e+05  1.487e+00  y = CPI * 78.67\n",
      "5           2.220e+05  1.880e-01  y = (CPI * 69.787) - -2063.9\n",
      "7           2.098e+05  2.836e-02  y = M_2 + ((CAPINV * 15.111) - -5588.5)\n",
      "8           1.438e+05  3.777e-01  y = ((CPI * 6.1971) + 717.9) * log(M_2)\n",
      "11          1.433e+05  1.162e-03  y = (((CPI * 61.93) + (M_2 - -7058.8)) ^ 0.96417) + 1.8256\n",
      "12          1.426e+05  4.994e-03  y = log(M_2) * ((6.1515 * (117.59 + CPI)) - (0.065953 - SR...\n",
      "                                      ATE))\n",
      "14          1.315e+05  4.045e-02  y = ((M_2 + (((log(M_2) * CPI) + -1047.2) * 20.937)) ^ 0.8...\n",
      "                                      8372) + 10850\n",
      "16          1.301e+05  5.310e-03  y = (((M_2 + M_2) + (((CPI + 11.295) * log(M_2)) * 27.873)...\n",
      "                                      ) ^ 0.86355) + 3542.8\n",
      "18          1.300e+05  5.254e-04  y = ((((((CPI + 11.295) * log(M_2)) * 27.873) + (M_2 + M_2...\n",
      "                                      )) ^ 0.86355) - SRATE) + 3545.2\n",
      "20          1.300e+05  7.740e-05  y = ((3543.6 + (((M_2 + M_2) + (((11.295 + CPI) * 27.873) ...\n",
      "                                      * log(M_2))) ^ 0.86355)) - SRATE) - SRATE\n",
      "22          1.253e+05  1.837e-02  y = (((M_2 + ((17.476 * (CAPINV + (log(M_2) * CPI))) + 897...\n",
      "                                      .82)) + M_2) ^ 0.88012) + (3546.2 + (CAPINV / SRATE))\n",
      "23          1.029e+05  1.971e-01  y = (M_2 + (((CPI - 130.58) * 14.902) + 12282)) - (((M_2 +...\n",
      "                                       28715) + ((CPI - 56.814) * -174.74)) * (SRATE / 35.175))\n",
      "25          1.027e+05  7.308e-04  y = ((M_2 + 12286) + ((CPI - 133.9) * 15.278)) - (((((-171...\n",
      "                                      .99 * (CPI - 54.255)) + (M_2 + 28714)) * SRATE) / 35.193) ...\n",
      "                                      - 21.006)\n",
      "27          9.804e+04  2.325e-02  y = SRATE + (((((CPI - 123.44) * 13.31) - ((((((CPI - 28.7...\n",
      "                                      23) * -153.73) + (M_2 + 28712)) * SRATE) / 27.443) - 48.04...\n",
      "                                      2)) + 12303) + M_2)\n",
      "29          9.589e+04  1.112e-02  y = (SRATE / 42.149) + (((CPI - 134.08) * 24.504) + ((1229...\n",
      "                                      3 - (((((CPI - 63.008) * -182.71) + (M_2 + 28716)) * SRATE...\n",
      "                                      ) / 40.425)) + (M_2 * 0.79595)))\n",
      "31          9.581e+04  3.945e-04  y = ((24.504 * (((SRATE / 24.504) + CPI) - 134.08)) + (122...\n",
      "                                      93 - ((28716 + (M_2 + ((CPI - 63.008) * -182.71))) * (SRAT...\n",
      "                                      E / 40.425)))) + ((M_2 * 0.79595) - -0.99595)\n",
      "───────────────────────────────────────────────────────────────────────────────────────────────────\n",
      "════════════════════════════════════════════════════════════════════════════════════════════════════\n",
      "Press 'q' and then <enter> to stop execution early.\n",
      "\n",
      "Expressions evaluated per second: 2.630e+05\n",
      "Progress: 2352 / 9300 total iterations (25.290%)\n",
      "════════════════════════════════════════════════════════════════════════════════════════════════════\n",
      "───────────────────────────────────────────────────────────────────────────────────────────────────\n",
      "Complexity  Loss       Score      Equation\n",
      "1           6.330e+06  1.594e+01  y = 17892\n",
      "3           3.234e+05  1.487e+00  y = CPI * 78.671\n",
      "5           2.220e+05  1.880e-01  y = 2063.5 - (CPI * -69.789)\n",
      "7           1.656e+05  1.466e-01  y = (CPI * 31.496) + (M_2 + 6107.8)\n",
      "8           1.438e+05  1.413e-01  y = log(M_2) * ((CPI + 115.84) * 6.1973)\n",
      "9           1.349e+05  6.365e-02  y = ((7276.7 + M_2) / 1.5808) + (CPI * 45.645)\n",
      "10          1.253e+05  7.369e-02  y = (((CPI * 4.7075) + 2616.3) * log(M_2)) + -13090\n",
      "12          1.234e+05  7.850e-03  y = (log(M_2) * ((CPI * 4.5359) + (2870 - SRATE))) + -1484...\n",
      "                                      3\n",
      "14          1.080e+05  6.669e-02  y = (log(M_2) * ((CPI * 4.1206) + 3497.7)) + (-19679 - (-1...\n",
      "                                      432 / SRATE))\n",
      "16          1.079e+05  3.985e-04  y = ((log(M_2) * (((CPI * 4.2261) + SRATE) + 3341.6)) + -1...\n",
      "                                      8649) - (-1570.8 / SRATE)\n",
      "18          1.078e+05  2.999e-04  y = (log(M_2) * ((SRATE + (CPI * 4.169)) + 3408.2)) + (-19...\n",
      "                                      095 - (-1596.7 / (SRATE + 0.12266)))\n",
      "19          8.245e+04  2.684e-01  y = ((M_2 * 1.2036) - (SRATE * ((((CPI - -142.39) * -88.69...\n",
      "                                      9) + (M_2 + 28697)) / 9.5034))) + 12569\n",
      "21          8.212e+04  1.972e-03  y = (M_2 * 1.2195) + (12477 - (((M_2 + (((CPI - -147.84) *...\n",
      "                                       -87.498) + 28697)) / 8.7079) * (SRATE - 0.39521)))\n",
      "23          8.010e+04  1.248e-02  y = (M_2 * 1.2321) + (12479 - ((((((CPI - -142.99) * -88.4...\n",
      "                                      55) + 28697) + M_2) / 8.5959) * (SRATE - (M_2 * 0.00012737...\n",
      "                                      ))))\n",
      "25          8.010e+04  1.490e-07  y = ((M_2 * 1.2321) + (12479 - ((SRATE - (M_2 * 0.00012737...\n",
      "                                      )) * (((((CPI - -142.99) * -88.455) + 28697) + M_2) / 8.59...\n",
      "                                      59)))) - 0.045907\n",
      "───────────────────────────────────────────────────────────────────────────────────────────────────\n",
      "════════════════════════════════════════════════════════════════════════════════════════════════════\n",
      "Press 'q' and then <enter> to stop execution early.\n",
      "\n",
      "Expressions evaluated per second: 2.750e+05\n",
      "Progress: 3640 / 9300 total iterations (39.140%)\n",
      "════════════════════════════════════════════════════════════════════════════════════════════════════\n",
      "───────────────────────────────────────────────────────────────────────────────────────────────────\n",
      "Complexity  Loss       Score      Equation\n",
      "1           6.330e+06  1.594e+01  y = 17892\n",
      "3           3.234e+05  1.487e+00  y = CPI * 78.671\n",
      "5           2.220e+05  1.880e-01  y = 2063.4 - (CPI * -69.789)\n",
      "7           1.656e+05  1.466e-01  y = (M_2 + (CPI * 31.496)) + 6107.8\n",
      "8           1.438e+05  1.413e-01  y = log(M_2) * ((CPI * 6.1972) + 717.9)\n",
      "9           1.349e+05  6.376e-02  y = ((M_2 * 0.6275) + 4601.7) + (CPI * 45.759)\n",
      "10          1.253e+05  7.359e-02  y = (log(M_2) * ((CPI * 4.7075) + 2616.3)) + -13090\n",
      "12          1.234e+05  7.850e-03  y = (log(M_2) * (((CPI * 4.5365) + 2869.1) - SRATE)) + -14...\n",
      "                                      837\n",
      "14          1.080e+05  6.669e-02  y = -19679 + ((log(M_2) * ((CPI * 4.1206) + 3497.7)) - (-1...\n",
      "                                      432 / SRATE))\n",
      "15          9.556e+04  1.222e-01  y = (M_2 - (((((CPI * -106.43) + M_2) + 20431) * SRATE) / ...\n",
      "                                      10.083)) + 13631\n",
      "17          9.107e+04  2.409e-02  y = ((13117 - ((((CPI * -105.57) + (M_2 + 20251)) / 10.559...\n",
      "                                      ) * SRATE)) + CAPINV) + M_2\n",
      "19          8.245e+04  4.972e-02  y = ((M_2 * 1.2041) + 12568) - (SRATE * ((((CPI - -141.73)...\n",
      "                                       * -88.842) + (M_2 + 28697)) / 9.5341))\n",
      "21          8.205e+04  2.418e-03  y = ((M_2 * 1.2319) + 12408) - ((((CPI - -152.91) * -86.39...\n",
      "                                      7) + (M_2 + 28697)) * ((SRATE - 0.48675) / 8.4786))\n",
      "22          8.062e+04  1.755e-02  y = ((M_2 * 1.2232) + 12458) - (((M_2 + ((CPI - -147.78) *...\n",
      "                                       -87.515)) + 28697) * ((SRATE - log(SRATE)) / 6.4622))\n",
      "23          8.006e+04  7.037e-03  y = ((M_2 * 1.2308) - ((SRATE - (M_2 * 0.00012475)) * (((M...\n",
      "                                      _2 + 28697) + ((CPI - -147.13) * -87.56)) / 8.4661))) + 12...\n",
      "                                      475\n",
      "25          7.978e+04  1.755e-03  y = ((M_2 * 1.2341) + 12479) - ((((SRATE + 0.44944) - (M_2...\n",
      "                                       * 0.00017147)) * (M_2 + (((CPI - -147.07) * -87.528) + 28...\n",
      "                                      697))) / 8.9651)\n",
      "28          7.857e+04  5.090e-03  y = ((M_2 * 1.2117) - (((((CPI - -137.39) * -89.673) + (M_...\n",
      "                                      2 + 28697)) * ((inv(SRATE / 1.6243) - (M_2 * 0.00019719)) ...\n",
      "                                      + SRATE)) / 8.604)) + 12626\n",
      "30          7.745e+04  7.136e-03  y = ((M_2 * 1.2353) - ((((M_2 + 28697) + ((CPI - -143.76) ...\n",
      "                                      * -88.266)) / 7.4712) * (((SRATE + -0.80269) - (M_2 * 0.00...\n",
      "                                      013589)) + inv(SRATE + -0.96957)))) + 12479\n",
      "───────────────────────────────────────────────────────────────────────────────────────────────────\n",
      "════════════════════════════════════════════════════════════════════════════════════════════════════\n",
      "Press 'q' and then <enter> to stop execution early.\n",
      "\n",
      "Expressions evaluated per second: 2.850e+05\n",
      "Progress: 4950 / 9300 total iterations (53.226%)\n",
      "════════════════════════════════════════════════════════════════════════════════════════════════════\n"
     ]
    },
    {
     "name": "stderr",
     "output_type": "stream",
     "text": [
      "[ Info: Final population:\n",
      "[ Info: Results saved to:\n"
     ]
    },
    {
     "name": "stdout",
     "output_type": "stream",
     "text": [
      "Error in callback _flush_stdio (for post_execute):\n"
     ]
    },
    {
     "ename": "UnicodeDecodeError",
     "evalue": "'utf-8' codec can't decode bytes in position 4094-4095: unexpected end of data",
     "output_type": "error",
     "traceback": [
      "\u001B[0;31m---------------------------------------------------------------------------\u001B[0m",
      "\u001B[0;31mUnicodeDecodeError\u001B[0m                        Traceback (most recent call last)",
      "File \u001B[0;32m~/.julia/packages/PythonCall/WMWY0/src/JlWrap/any.jl:262\u001B[0m, in \u001B[0;36m__call__\u001B[0;34m(self, *args, **kwargs)\u001B[0m\n\u001B[1;32m    260\u001B[0m     return ValueBase.__dir__(self) + self._jl_callmethod($(pyjl_methodnum(pyjlany_dir)))\n\u001B[1;32m    261\u001B[0m def __call__(self, *args, **kwargs):\n\u001B[0;32m--> 262\u001B[0m     return self._jl_callmethod($(pyjl_methodnum(pyjlany_call)), args, kwargs)\n\u001B[1;32m    263\u001B[0m def __bool__(self):\n\u001B[1;32m    264\u001B[0m     return True\n",
      "\u001B[0;31mUnicodeDecodeError\u001B[0m: 'utf-8' codec can't decode bytes in position 4094-4095: unexpected end of data"
     ]
    }
   ],
   "execution_count": 9
  },
  {
   "metadata": {
    "ExecuteTime": {
     "end_time": "2025-03-31T17:05:20.929847Z",
     "start_time": "2025-03-31T17:05:20.766653Z"
    }
   },
   "cell_type": "code",
   "source": [
    "act = df['RGDP']\n",
    "pred_values = [eqsr.eq.subs(row[1].to_dict()).evalf() for row in df.drop('RGDP', axis=1).iterrows()]\n",
    "pred = pd.Series(pred_values, index=df.index)"
   ],
   "id": "8ffb52584a0e1760",
   "outputs": [
    {
     "name": "stdout",
     "output_type": "stream",
     "text": [
      "Error in callback _flush_stdio (for post_execute):\n"
     ]
    },
    {
     "ename": "UnicodeDecodeError",
     "evalue": "'utf-8' codec can't decode bytes in position 4094-4095: unexpected end of data",
     "output_type": "error",
     "traceback": [
      "\u001B[0;31m---------------------------------------------------------------------------\u001B[0m",
      "\u001B[0;31mUnicodeDecodeError\u001B[0m                        Traceback (most recent call last)",
      "File \u001B[0;32m~/.julia/packages/PythonCall/WMWY0/src/JlWrap/any.jl:262\u001B[0m, in \u001B[0;36m__call__\u001B[0;34m(self, *args, **kwargs)\u001B[0m\n\u001B[1;32m    260\u001B[0m     return ValueBase.__dir__(self) + self._jl_callmethod($(pyjl_methodnum(pyjlany_dir)))\n\u001B[1;32m    261\u001B[0m def __call__(self, *args, **kwargs):\n\u001B[0;32m--> 262\u001B[0m     return self._jl_callmethod($(pyjl_methodnum(pyjlany_call)), args, kwargs)\n\u001B[1;32m    263\u001B[0m def __bool__(self):\n\u001B[1;32m    264\u001B[0m     return True\n",
      "\u001B[0;31mUnicodeDecodeError\u001B[0m: 'utf-8' codec can't decode bytes in position 4094-4095: unexpected end of data"
     ]
    }
   ],
   "execution_count": 10
  },
  {
   "metadata": {
    "ExecuteTime": {
     "end_time": "2025-03-31T17:05:21.024424Z",
     "start_time": "2025-03-31T17:05:20.930417Z"
    }
   },
   "cell_type": "code",
   "source": [
    "plt.plot(act, label='Act', alpha=0.5)\n",
    "plt.plot(pred, label='Pred', linestyle='--')\n",
    "\n",
    "plt.xticks(rotation=90)\n",
    "\n",
    "plt.legend()\n",
    "plt.show()"
   ],
   "id": "c92fe2dc72c68f63",
   "outputs": [
    {
     "data": {
      "text/plain": [
       "<Figure size 640x480 with 1 Axes>"
      ],
      "image/png": "[encoded data removed]"
     },
     "metadata": {},
     "output_type": "display_data"
    },
    {
     "name": "stdout",
     "output_type": "stream",
     "text": [
      "Error in callback _flush_stdio (for post_execute):\n"
     ]
    },
    {
     "ename": "UnicodeDecodeError",
     "evalue": "'utf-8' codec can't decode bytes in position 4094-4095: unexpected end of data",
     "output_type": "error",
     "traceback": [
      "\u001B[0;31m---------------------------------------------------------------------------\u001B[0m",
      "\u001B[0;31mUnicodeDecodeError\u001B[0m                        Traceback (most recent call last)",
      "File \u001B[0;32m~/.julia/packages/PythonCall/WMWY0/src/JlWrap/any.jl:262\u001B[0m, in \u001B[0;36m__call__\u001B[0;34m(self, *args, **kwargs)\u001B[0m\n\u001B[1;32m    260\u001B[0m     return ValueBase.__dir__(self) + self._jl_callmethod($(pyjl_methodnum(pyjlany_dir)))\n\u001B[1;32m    261\u001B[0m def __call__(self, *args, **kwargs):\n\u001B[0;32m--> 262\u001B[0m     return self._jl_callmethod($(pyjl_methodnum(pyjlany_call)), args, kwargs)\n\u001B[1;32m    263\u001B[0m def __bool__(self):\n\u001B[1;32m    264\u001B[0m     return True\n",
      "\u001B[0;31mUnicodeDecodeError\u001B[0m: 'utf-8' codec can't decode bytes in position 4094-4095: unexpected end of data"
     ]
    }
   ],
   "execution_count": 11
  },
  {
   "metadata": {
    "ExecuteTime": {
     "end_time": "2025-03-31T17:05:21.034550Z",
     "start_time": "2025-03-31T17:05:21.025097Z"
    }
   },
   "cell_type": "code",
   "source": "eqsr.eq.evalf(4)",
   "id": "291a8d3d30695c52",
   "outputs": [
    {
     "data": {
      "text/plain": [
       "M_2**0.5 + 1.191*M_2 - SRATE*(-90.65*CPI + M_2 + 1.655e+4)/(-CAPINV/(CAPINV + 1.801*M_2 - 1.053e+4) + 10.0) + 1.254e+4"
      ],
      "text/latex": "$\\displaystyle M_{2}^{0.5} + 1.191 M_{2} - \\frac{SRATE \\left(- 90.65 CPI + M_{2} + 1.655 \\cdot 10^{4}\\right)}{- \\frac{CAPINV}{CAPINV + 1.801 M_{2} - 1.053 \\cdot 10^{4}} + 10.0} + 1.254 \\cdot 10^{4}$"
     },
     "execution_count": 12,
     "metadata": {},
     "output_type": "execute_result"
    },
    {
     "name": "stdout",
     "output_type": "stream",
     "text": [
      "Error in callback _flush_stdio (for post_execute):\n"
     ]
    },
    {
     "ename": "UnicodeDecodeError",
     "evalue": "'utf-8' codec can't decode bytes in position 4094-4095: unexpected end of data",
     "output_type": "error",
     "traceback": [
      "\u001B[0;31m---------------------------------------------------------------------------\u001B[0m",
      "\u001B[0;31mUnicodeDecodeError\u001B[0m                        Traceback (most recent call last)",
      "File \u001B[0;32m~/.julia/packages/PythonCall/WMWY0/src/JlWrap/any.jl:262\u001B[0m, in \u001B[0;36m__call__\u001B[0;34m(self, *args, **kwargs)\u001B[0m\n\u001B[1;32m    260\u001B[0m     return ValueBase.__dir__(self) + self._jl_callmethod($(pyjl_methodnum(pyjlany_dir)))\n\u001B[1;32m    261\u001B[0m def __call__(self, *args, **kwargs):\n\u001B[0;32m--> 262\u001B[0m     return self._jl_callmethod($(pyjl_methodnum(pyjlany_call)), args, kwargs)\n\u001B[1;32m    263\u001B[0m def __bool__(self):\n\u001B[1;32m    264\u001B[0m     return True\n",
      "\u001B[0;31mUnicodeDecodeError\u001B[0m: 'utf-8' codec can't decode bytes in position 4094-4095: unexpected end of data"
     ]
    }
   ],
   "execution_count": 12
  },
  {
   "metadata": {
    "ExecuteTime": {
     "end_time": "2025-03-31T17:05:21.041171Z",
     "start_time": "2025-03-31T17:05:21.035162Z"
    }
   },
   "cell_type": "code",
   "source": [
    "engine = SimEngine(\n",
    "    eq=eqsr.eq,\n",
    "    init_params={\n",
    "        'CPI': (160, lambda x: x*.999),\n",
    "        'CAPINV': (390, lambda x: x*1.05),\n",
    "        'SRATE': (4.5, lambda x: x*1.01),\n",
    "        'M_2': (2800, lambda x: x*1.01),\n",
    "    }\n",
    ")"
   ],
   "id": "e79006f9d8ce9024",
   "outputs": [
    {
     "name": "stdout",
     "output_type": "stream",
     "text": [
      "Error in callback _flush_stdio (for post_execute):\n"
     ]
    },
    {
     "ename": "UnicodeDecodeError",
     "evalue": "'utf-8' codec can't decode bytes in position 4094-4095: unexpected end of data",
     "output_type": "error",
     "traceback": [
      "\u001B[0;31m---------------------------------------------------------------------------\u001B[0m",
      "\u001B[0;31mUnicodeDecodeError\u001B[0m                        Traceback (most recent call last)",
      "File \u001B[0;32m~/.julia/packages/PythonCall/WMWY0/src/JlWrap/any.jl:262\u001B[0m, in \u001B[0;36m__call__\u001B[0;34m(self, *args, **kwargs)\u001B[0m\n\u001B[1;32m    260\u001B[0m     return ValueBase.__dir__(self) + self._jl_callmethod($(pyjl_methodnum(pyjlany_dir)))\n\u001B[1;32m    261\u001B[0m def __call__(self, *args, **kwargs):\n\u001B[0;32m--> 262\u001B[0m     return self._jl_callmethod($(pyjl_methodnum(pyjlany_call)), args, kwargs)\n\u001B[1;32m    263\u001B[0m def __bool__(self):\n\u001B[1;32m    264\u001B[0m     return True\n",
      "\u001B[0;31mUnicodeDecodeError\u001B[0m: 'utf-8' codec can't decode bytes in position 4094-4095: unexpected end of data"
     ]
    }
   ],
   "execution_count": 13
  },
  {
   "metadata": {
    "ExecuteTime": {
     "end_time": "2025-03-31T17:05:21.320584Z",
     "start_time": "2025-03-31T17:05:21.043583Z"
    }
   },
   "cell_type": "code",
   "source": [
    "for _ in range(100):\n",
    "    next(engine._simulate())\n",
    "engine.get_history()"
   ],
   "id": "a3ecd669a2f0021a",
   "outputs": [
    {
     "data": {
      "text/plain": [
       "             CPI        CAPINV      SRATE          M_2        output\n",
       "step                                                                \n",
       "0     161.824870    408.084519   4.618594  2935.678211  13767.704881\n",
       "1     160.716696    425.980619   4.848947  3021.921764  13888.870884\n",
       "2     158.671557    453.346552   4.840697  3016.604160  13794.279899\n",
       "3     159.471738    453.245180   4.678271  3003.941179  13707.167580\n",
       "4     155.278356    479.646255   4.617793  2926.858040  13814.672994\n",
       "...          ...           ...        ...          ...           ...\n",
       "95    149.066581  41742.946729  11.818129  7299.044422   7639.753907\n",
       "96    146.091310  43994.888410  12.038293  7717.814787   7840.464133\n",
       "97    149.412964  45528.386517  11.885588  7890.855597   7195.426579\n",
       "98    144.336984  49993.619111  12.358407  7876.283671   7761.518892\n",
       "99    138.017112  54270.030786  12.446249  8201.218665   6558.513048\n",
       "\n",
       "[100 rows x 5 columns]"
      ],
      "text/html": [
       "<div>\n",
       "<style scoped>\n",
       "    .dataframe tbody tr th:only-of-type {\n",
       "        vertical-align: middle;\n",
       "    }\n",
       "\n",
       "    .dataframe tbody tr th {\n",
       "        vertical-align: top;\n",
       "    }\n",
       "\n",
       "    .dataframe thead th {\n",
       "        text-align: right;\n",
       "    }\n",
       "</style>\n",
       "<table border=\"1\" class=\"dataframe\">\n",
       "  <thead>\n",
       "    <tr style=\"text-align: right;\">\n",
       "      <th></th>\n",
       "      <th>CPI</th>\n",
       "      <th>CAPINV</th>\n",
       "      <th>SRATE</th>\n",
       "      <th>M_2</th>\n",
       "      <th>output</th>\n",
       "    </tr>\n",
       "    <tr>\n",
       "      <th>step</th>\n",
       "      <th></th>\n",
       "      <th></th>\n",
       "      <th></th>\n",
       "      <th></th>\n",
       "      <th></th>\n",
       "    </tr>\n",
       "  </thead>\n",
       "  <tbody>\n",
       "    <tr>\n",
       "      <th>0</th>\n",
       "      <td>161.824870</td>\n",
       "      <td>408.084519</td>\n",
       "      <td>4.618594</td>\n",
       "      <td>2935.678211</td>\n",
       "      <td>13767.704881</td>\n",
       "    </tr>\n",
       "    <tr>\n",
       "      <th>1</th>\n",
       "      <td>160.716696</td>\n",
       "      <td>425.980619</td>\n",
       "      <td>4.848947</td>\n",
       "      <td>3021.921764</td>\n",
       "      <td>13888.870884</td>\n",
       "    </tr>\n",
       "    <tr>\n",
       "      <th>2</th>\n",
       "      <td>158.671557</td>\n",
       "      <td>453.346552</td>\n",
       "      <td>4.840697</td>\n",
       "      <td>3016.604160</td>\n",
       "      <td>13794.279899</td>\n",
       "    </tr>\n",
       "    <tr>\n",
       "      <th>3</th>\n",
       "      <td>159.471738</td>\n",
       "      <td>453.245180</td>\n",
       "      <td>4.678271</td>\n",
       "      <td>3003.941179</td>\n",
       "      <td>13707.167580</td>\n",
       "    </tr>\n",
       "    <tr>\n",
       "      <th>4</th>\n",
       "      <td>155.278356</td>\n",
       "      <td>479.646255</td>\n",
       "      <td>4.617793</td>\n",
       "      <td>2926.858040</td>\n",
       "      <td>13814.672994</td>\n",
       "    </tr>\n",
       "    <tr>\n",
       "      <th>...</th>\n",
       "      <td>...</td>\n",
       "      <td>...</td>\n",
       "      <td>...</td>\n",
       "      <td>...</td>\n",
       "      <td>...</td>\n",
       "    </tr>\n",
       "    <tr>\n",
       "      <th>95</th>\n",
       "      <td>149.066581</td>\n",
       "      <td>41742.946729</td>\n",
       "      <td>11.818129</td>\n",
       "      <td>7299.044422</td>\n",
       "      <td>7639.753907</td>\n",
       "    </tr>\n",
       "    <tr>\n",
       "      <th>96</th>\n",
       "      <td>146.091310</td>\n",
       "      <td>43994.888410</td>\n",
       "      <td>12.038293</td>\n",
       "      <td>7717.814787</td>\n",
       "      <td>7840.464133</td>\n",
       "    </tr>\n",
       "    <tr>\n",
       "      <th>97</th>\n",
       "      <td>149.412964</td>\n",
       "      <td>45528.386517</td>\n",
       "      <td>11.885588</td>\n",
       "      <td>7890.855597</td>\n",
       "      <td>7195.426579</td>\n",
       "    </tr>\n",
       "    <tr>\n",
       "      <th>98</th>\n",
       "      <td>144.336984</td>\n",
       "      <td>49993.619111</td>\n",
       "      <td>12.358407</td>\n",
       "      <td>7876.283671</td>\n",
       "      <td>7761.518892</td>\n",
       "    </tr>\n",
       "    <tr>\n",
       "      <th>99</th>\n",
       "      <td>138.017112</td>\n",
       "      <td>54270.030786</td>\n",
       "      <td>12.446249</td>\n",
       "      <td>8201.218665</td>\n",
       "      <td>6558.513048</td>\n",
       "    </tr>\n",
       "  </tbody>\n",
       "</table>\n",
       "<p>100 rows × 5 columns</p>\n",
       "</div>"
      ]
     },
     "execution_count": 14,
     "metadata": {},
     "output_type": "execute_result"
    },
    {
     "name": "stdout",
     "output_type": "stream",
     "text": [
      "Error in callback _flush_stdio (for post_execute):\n"
     ]
    },
    {
     "ename": "UnicodeDecodeError",
     "evalue": "'utf-8' codec can't decode bytes in position 4094-4095: unexpected end of data",
     "output_type": "error",
     "traceback": [
      "\u001B[0;31m---------------------------------------------------------------------------\u001B[0m",
      "\u001B[0;31mUnicodeDecodeError\u001B[0m                        Traceback (most recent call last)",
      "File \u001B[0;32m~/.julia/packages/PythonCall/WMWY0/src/JlWrap/any.jl:262\u001B[0m, in \u001B[0;36m__call__\u001B[0;34m(self, *args, **kwargs)\u001B[0m\n\u001B[1;32m    260\u001B[0m     return ValueBase.__dir__(self) + self._jl_callmethod($(pyjl_methodnum(pyjlany_dir)))\n\u001B[1;32m    261\u001B[0m def __call__(self, *args, **kwargs):\n\u001B[0;32m--> 262\u001B[0m     return self._jl_callmethod($(pyjl_methodnum(pyjlany_call)), args, kwargs)\n\u001B[1;32m    263\u001B[0m def __bool__(self):\n\u001B[1;32m    264\u001B[0m     return True\n",
      "\u001B[0;31mUnicodeDecodeError\u001B[0m: 'utf-8' codec can't decode bytes in position 4094-4095: unexpected end of data"
     ]
    }
   ],
   "execution_count": 14
  },
  {
   "metadata": {
    "ExecuteTime": {
     "end_time": "2025-03-31T17:05:21.366536Z",
     "start_time": "2025-03-31T17:05:21.321243Z"
    }
   },
   "cell_type": "code",
   "source": "plt.plot(engine.get_history()['output'])",
   "id": "6b2e748dc88e625c",
   "outputs": [
    {
     "data": {
      "text/plain": [
       "[<matplotlib.lines.Line2D at 0x3210021b0>]"
      ]
     },
     "execution_count": 15,
     "metadata": {},
     "output_type": "execute_result"
    },
    {
     "name": "stdout",
     "output_type": "stream",
     "text": [
      "Error in callback _flush_stdio (for post_execute):\n"
     ]
    },
    {
     "ename": "UnicodeDecodeError",
     "evalue": "'utf-8' codec can't decode bytes in position 4094-4095: unexpected end of data",
     "output_type": "error",
     "traceback": [
      "\u001B[0;31m---------------------------------------------------------------------------\u001B[0m",
      "\u001B[0;31mUnicodeDecodeError\u001B[0m                        Traceback (most recent call last)",
      "File \u001B[0;32m~/.julia/packages/PythonCall/WMWY0/src/JlWrap/any.jl:262\u001B[0m, in \u001B[0;36m__call__\u001B[0;34m(self, *args, **kwargs)\u001B[0m\n\u001B[1;32m    260\u001B[0m     return ValueBase.__dir__(self) + self._jl_callmethod($(pyjl_methodnum(pyjlany_dir)))\n\u001B[1;32m    261\u001B[0m def __call__(self, *args, **kwargs):\n\u001B[0;32m--> 262\u001B[0m     return self._jl_callmethod($(pyjl_methodnum(pyjlany_call)), args, kwargs)\n\u001B[1;32m    263\u001B[0m def __bool__(self):\n\u001B[1;32m    264\u001B[0m     return True\n",
      "\u001B[0;31mUnicodeDecodeError\u001B[0m: 'utf-8' codec can't decode bytes in position 4094-4095: unexpected end of data"
     ]
    },
    {
     "data": {
      "text/plain": [
       "<Figure size 640x480 with 1 Axes>"
      ],
      "image/png": "[encoded data removed]"
     },
     "metadata": {},
     "output_type": "display_data"
    }
   ],
   "execution_count": 15
  },
  {
   "metadata": {
    "ExecuteTime": {
     "end_time": "2025-03-31T17:05:21.373106Z",
     "start_time": "2025-03-31T17:05:21.367274Z"
    }
   },
   "cell_type": "code",
   "source": [
    "from macrosim.GrowthPatternDetector import GrowthPatternDetector\n",
    "gpd = GrowthPatternDetector()"
   ],
   "id": "64c93ae50ebc57b2",
   "outputs": [
    {
     "name": "stdout",
     "output_type": "stream",
     "text": [
      "Error in callback _flush_stdio (for post_execute):\n"
     ]
    },
    {
     "ename": "UnicodeDecodeError",
     "evalue": "'utf-8' codec can't decode bytes in position 4094-4095: unexpected end of data",
     "output_type": "error",
     "traceback": [
      "\u001B[0;31m---------------------------------------------------------------------------\u001B[0m",
      "\u001B[0;31mUnicodeDecodeError\u001B[0m                        Traceback (most recent call last)",
      "File \u001B[0;32m~/.julia/packages/PythonCall/WMWY0/src/JlWrap/any.jl:262\u001B[0m, in \u001B[0;36m__call__\u001B[0;34m(self, *args, **kwargs)\u001B[0m\n\u001B[1;32m    260\u001B[0m     return ValueBase.__dir__(self) + self._jl_callmethod($(pyjl_methodnum(pyjlany_dir)))\n\u001B[1;32m    261\u001B[0m def __call__(self, *args, **kwargs):\n\u001B[0;32m--> 262\u001B[0m     return self._jl_callmethod($(pyjl_methodnum(pyjlany_call)), args, kwargs)\n\u001B[1;32m    263\u001B[0m def __bool__(self):\n\u001B[1;32m    264\u001B[0m     return True\n",
      "\u001B[0;31mUnicodeDecodeError\u001B[0m: 'utf-8' codec can't decode bytes in position 4094-4095: unexpected end of data"
     ]
    }
   ],
   "execution_count": 16
  },
  {
   "metadata": {
    "ExecuteTime": {
     "end_time": "2025-03-31T17:05:21.385001Z",
     "start_time": "2025-03-31T17:05:21.373695Z"
    }
   },
   "cell_type": "code",
   "source": "gpd.fit_pattern(df)",
   "id": "ace8e9c65d5c4397",
   "outputs": [
    {
     "data": {
      "text/plain": [
       "{'CPI': (<function macrosim.GrowthPatternDetector.GrowthPatternDetector.fit_pattern.<locals>.<lambda>(x, func=<function GrowthPatternDetector._linear at 0x314fbf240>, params=array([  1.23741736, 166.1697558 ]))>,\n",
       "  np.float64(53.59445147888025)),\n",
       " 'CAPINV': (<function macrosim.GrowthPatternDetector.GrowthPatternDetector.fit_pattern.<locals>.<lambda>(x, func=<function GrowthPatternDetector._linear at 0x314fbf240>, params=array([  2.56867989, 381.25804637]))>,\n",
       "  np.float64(82.11306651057069)),\n",
       " 'SRATE': (<function macrosim.GrowthPatternDetector.GrowthPatternDetector.fit_pattern.<locals>.<lambda>(x, func=<function GrowthPatternDetector._linear at 0x314fbf240>, params=array([0.04895066, 3.36636598]))>,\n",
       "  np.float64(12.276671006483156)),\n",
       " 'M_2': (<function macrosim.GrowthPatternDetector.GrowthPatternDetector.fit_pattern.<locals>.<lambda>(x, func=<function GrowthPatternDetector._linear at 0x314fbf240>, params=array([  49.23831922, 2227.90998738]))>,\n",
       "  np.float64(159323.98390842543)),\n",
       " 'RGDP': (<function macrosim.GrowthPatternDetector.GrowthPatternDetector.fit_pattern.<locals>.<lambda>(x, func=<function GrowthPatternDetector._linear at 0x314fbf240>, params=array([   87.98922023, 13564.57544581]))>,\n",
       "  np.float64(214827.49466697848))}"
      ]
     },
     "execution_count": 17,
     "metadata": {},
     "output_type": "execute_result"
    },
    {
     "name": "stdout",
     "output_type": "stream",
     "text": [
      "Error in callback _flush_stdio (for post_execute):\n"
     ]
    },
    {
     "ename": "UnicodeDecodeError",
     "evalue": "'utf-8' codec can't decode bytes in position 4094-4095: unexpected end of data",
     "output_type": "error",
     "traceback": [
      "\u001B[0;31m---------------------------------------------------------------------------\u001B[0m",
      "\u001B[0;31mUnicodeDecodeError\u001B[0m                        Traceback (most recent call last)",
      "File \u001B[0;32m~/.julia/packages/PythonCall/WMWY0/src/JlWrap/any.jl:262\u001B[0m, in \u001B[0;36m__call__\u001B[0;34m(self, *args, **kwargs)\u001B[0m\n\u001B[1;32m    260\u001B[0m     return ValueBase.__dir__(self) + self._jl_callmethod($(pyjl_methodnum(pyjlany_dir)))\n\u001B[1;32m    261\u001B[0m def __call__(self, *args, **kwargs):\n\u001B[0;32m--> 262\u001B[0m     return self._jl_callmethod($(pyjl_methodnum(pyjlany_call)), args, kwargs)\n\u001B[1;32m    263\u001B[0m def __bool__(self):\n\u001B[1;32m    264\u001B[0m     return True\n",
      "\u001B[0;31mUnicodeDecodeError\u001B[0m: 'utf-8' codec can't decode bytes in position 4094-4095: unexpected end of data"
     ]
    }
   ],
   "execution_count": 17
  }
 ],
 "metadata": {
  "kernelspec": {
   "display_name": "MacroSim",
   "language": "python",
   "name": "macrosim"
  },
  "language_info": {
   "codemirror_mode": {
    "name": "ipython",
    "version": 2
   },
   "file_extension": ".py",
   "mimetype": "text/x-python",
   "name": "python",
   "nbconvert_exporter": "python",
   "pygments_lexer": "ipython2",
   "version": "2.7.6"
  }
 },
 "nbformat": 4,
 "nbformat_minor": 5
}
